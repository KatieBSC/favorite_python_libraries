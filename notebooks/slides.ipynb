{
 "cells": [
  {
   "cell_type": "markdown",
   "id": "fd65eccc-73b3-4018-a71f-6f89a2317f9c",
   "metadata": {
    "editable": true,
    "slideshow": {
     "slide_type": "slide"
    },
    "tags": []
   },
   "source": [
    "# Spoonfuls of Sugar\n",
    "\n",
    "### Fun tools for boring tasks"
   ]
  },
  {
   "cell_type": "markdown",
   "id": "7da27a6a",
   "metadata": {
    "editable": true,
    "slideshow": {
     "slide_type": "slide"
    },
    "tags": []
   },
   "source": [
    "## Confession time 🫣"
   ]
  },
  {
   "cell_type": "markdown",
   "id": "3b913452",
   "metadata": {
    "editable": true,
    "slideshow": {
     "slide_type": "subslide"
    },
    "tags": []
   },
   "source": [
    "### 1. I don't like making slides."
   ]
  },
  {
   "cell_type": "markdown",
   "id": "fea7dffd",
   "metadata": {
    "editable": true,
    "slideshow": {
     "slide_type": "fragment"
    },
    "tags": []
   },
   "source": [
    "But I do like giving presentations."
   ]
  },
  {
   "cell_type": "markdown",
   "id": "372a72b5",
   "metadata": {
    "editable": true,
    "slideshow": {
     "slide_type": "subslide"
    },
    "tags": []
   },
   "source": [
    "### 2. I don't like writing Python classes."
   ]
  },
  {
   "cell_type": "markdown",
   "id": "41ba6a36",
   "metadata": {
    "editable": true,
    "slideshow": {
     "slide_type": "fragment"
    },
    "tags": []
   },
   "source": [
    "But I do like reusability."
   ]
  },
  {
   "cell_type": "markdown",
   "id": "a7b1a554",
   "metadata": {
    "editable": true,
    "slideshow": {
     "slide_type": "subslide"
    },
    "tags": []
   },
   "source": [
    "### 3. I don't like making CLI tools."
   ]
  },
  {
   "cell_type": "markdown",
   "id": "d198b23c",
   "metadata": {
    "editable": true,
    "slideshow": {
     "slide_type": "fragment"
    },
    "tags": []
   },
   "source": [
    "But I do like _using_ CLI tools."
   ]
  },
  {
   "cell_type": "markdown",
   "id": "e3715089",
   "metadata": {
    "editable": true,
    "slideshow": {
     "slide_type": "skip"
    },
    "tags": []
   },
   "source": [
    "-------"
   ]
  },
  {
   "cell_type": "markdown",
   "id": "dd0fe6e7",
   "metadata": {
    "editable": true,
    "slideshow": {
     "slide_type": "slide"
    },
    "tags": []
   },
   "source": [
    "#### 1. I don't like making slides."
   ]
  },
  {
   "cell_type": "markdown",
   "id": "d638d522",
   "metadata": {
    "editable": true,
    "slideshow": {
     "slide_type": "fragment"
    },
    "tags": []
   },
   "source": [
    "#### Making slides is fun with [jupyterlab_rise](https://github.com/jupyterlab-contrib/rise)!\n",
    "\n",
    "What makes this tool really awesome:  \n",
    "- Everything you can do in a notebook, you can do in a slide, including interactive plots!\n",
    "- Run cells during presentation\n",
    "- Edit cells during presssentation"
   ]
  },
  {
   "cell_type": "markdown",
   "id": "852c29a4",
   "metadata": {
    "editable": true,
    "slideshow": {
     "slide_type": "slide"
    },
    "tags": []
   },
   "source": [
    "It is really _this_ easy:\n",
    "    \n",
    "- [Install](https://github.com/jupyterlab-contrib/rise?tab=readme-ov-file#install)\n",
    "- `right sidebar -> property inspector -> Common Tools` to set up your Slide Types\n",
    "- Presentation is good to go!"
   ]
  },
  {
   "cell_type": "code",
   "execution_count": null,
   "id": "239f91a7",
   "metadata": {
    "editable": true,
    "slideshow": {
     "slide_type": "slide"
    },
    "tags": []
   },
   "outputs": [],
   "source": [
    "import pandas as pd\n",
    "import plotly.express as px\n",
    "\n",
    "df = pd.read_csv(\"../data/tap_steps.txt\", dtype=str)\n",
    "\n",
    "df.head()"
   ]
  },
  {
   "cell_type": "code",
   "execution_count": null,
   "id": "4689860a",
   "metadata": {
    "editable": true,
    "slideshow": {
     "slide_type": "slide"
    },
    "tags": []
   },
   "outputs": [],
   "source": [
    "px.bar(\n",
    "    df.groupby(\"sounds\", as_index=False).agg(\n",
    "        count=(\"sounds\", \"count\"), steps=(\"name\", list)\n",
    "    ),\n",
    "    x=\"sounds\",\n",
    "    y=\"count\",\n",
    "    hover_data=\"steps\",\n",
    "    title=\"Tap steps by number of sounds\",\n",
    ")"
   ]
  },
  {
   "cell_type": "markdown",
   "id": "dc5afc84",
   "metadata": {
    "editable": true,
    "slideshow": {
     "slide_type": "slide"
    },
    "tags": []
   },
   "source": [
    "Some tips which have worked for me:\n",
    "\n",
    "1. Double check your keyboard shortcuts\n",
    "2. Don't put too much text in a slide\n",
    "3. Do some \"live\" coding or plotting"
   ]
  },
  {
   "cell_type": "markdown",
   "id": "c8b272b2",
   "metadata": {
    "editable": true,
    "slideshow": {
     "slide_type": "slide"
    },
    "tags": []
   },
   "source": [
    "#### 2. I don't like writing Python classes."
   ]
  },
  {
   "cell_type": "markdown",
   "id": "dd9ce1e1",
   "metadata": {
    "editable": true,
    "slideshow": {
     "slide_type": "fragment"
    },
    "tags": []
   },
   "source": [
    "Option 1: Don't"
   ]
  },
  {
   "cell_type": "code",
   "execution_count": null,
   "id": "88a7703d",
   "metadata": {
    "editable": true,
    "slideshow": {
     "slide_type": "fragment"
    },
    "tags": []
   },
   "outputs": [],
   "source": [
    "from collections import namedtuple\n",
    "\n",
    "TapStep = namedtuple(\"TapStep\", [\"name\", \"sounds\"])\n",
    "step = TapStep(name=\"Shuffle\", sounds=2)\n",
    "\n",
    "step"
   ]
  },
  {
   "cell_type": "code",
   "execution_count": null,
   "id": "737a21a4-cb5a-4d80-bac4-444ac481d539",
   "metadata": {
    "editable": true,
    "slideshow": {
     "slide_type": "fragment"
    },
    "tags": []
   },
   "outputs": [],
   "source": [
    "step.sounds"
   ]
  },
  {
   "cell_type": "markdown",
   "id": "eaa4872e",
   "metadata": {
    "editable": true,
    "slideshow": {
     "slide_type": "slide"
    },
    "tags": []
   },
   "source": [
    "### namedtuple\n",
    "\n",
    "#### Pros:\n",
    "- Saves a lot of typing\n",
    "- Immutable\n",
    "- More readable than a regular tuple (`step.sounds` vs. `step[1]`)"
   ]
  },
  {
   "cell_type": "markdown",
   "id": "5e912c0c",
   "metadata": {
    "editable": true,
    "slideshow": {
     "slide_type": "slide"
    },
    "tags": []
   },
   "source": [
    "### namedtuple\n",
    "#### Cons:\n",
    "- Sometimes you really need a class (methods, inheritance)\n",
    "- It's really a tuple; typename doesn't matter for equality"
   ]
  },
  {
   "cell_type": "code",
   "execution_count": null,
   "id": "9676a5aa-cf2d-4891-b2bd-47b171b9df2a",
   "metadata": {
    "editable": true,
    "slideshow": {
     "slide_type": "fragment"
    },
    "tags": []
   },
   "outputs": [],
   "source": [
    "TapStep = namedtuple(\"TapStep\", \"name, sounds\")\n",
    "step = TapStep(\"Paradiddle\", 4)\n",
    "\n",
    "DrumBeat = namedtuple(\"DrumBeat\", \"pattern, n_sounds\")\n",
    "beat = DrumBeat(\"Paradiddle\", 4)\n",
    "\n",
    "print(f\"{step = }\")\n",
    "print(f\"{beat = }\")\n",
    "\n",
    "# print(f\"{step == beat = }\")"
   ]
  },
  {
   "cell_type": "markdown",
   "id": "8a3f9d80",
   "metadata": {
    "editable": true,
    "slideshow": {
     "slide_type": "slide"
    },
    "tags": []
   },
   "source": [
    "#### 2. I don't like writing Python classes."
   ]
  },
  {
   "cell_type": "markdown",
   "id": "15601138",
   "metadata": {
    "editable": true,
    "slideshow": {
     "slide_type": "fragment"
    },
    "tags": []
   },
   "source": [
    "Option 2: Type less and make it more fun."
   ]
  },
  {
   "cell_type": "code",
   "execution_count": null,
   "id": "f3b6364c",
   "metadata": {
    "editable": true,
    "slideshow": {
     "slide_type": "fragment"
    },
    "tags": []
   },
   "outputs": [],
   "source": [
    "from attrs import define\n",
    "\n",
    "\n",
    "@define\n",
    "class TapStep:\n",
    "    name: str\n",
    "    sounds: int\n",
    "\n",
    "\n",
    "TapStep(\"Paradiddle\", 4)"
   ]
  },
  {
   "cell_type": "markdown",
   "id": "982c1e28",
   "metadata": {
    "editable": true,
    "slideshow": {
     "slide_type": "slide"
    },
    "tags": []
   },
   "source": [
    "### [attrs](https://github.com/python-attrs/attrs) - _Python Classes Without Boilerplate_\n",
    "\n",
    "What makes this package really awesome:\n",
    "- Saves a lot of typing\n",
    "- Optionally immutable\n",
    "- Validators and Converters!"
   ]
  },
  {
   "cell_type": "code",
   "execution_count": null,
   "id": "e761069e",
   "metadata": {
    "editable": true,
    "slideshow": {
     "slide_type": "slide"
    },
    "tags": []
   },
   "outputs": [],
   "source": [
    "from attrs import frozen, field, validators\n",
    "\n",
    "\n",
    "@frozen\n",
    "class TapStep:\n",
    "    name: str = field(validator=[validators.instance_of(str), validators.min_len(1)])\n",
    "    sounds: int = field(converter=int, validator=[validators.ge(1), validators.le(4)])\n",
    "\n",
    "\n",
    "TapStep(\"Drawback\", \"3\")"
   ]
  },
  {
   "cell_type": "code",
   "execution_count": null,
   "id": "1e03e5ae",
   "metadata": {
    "editable": true,
    "slideshow": {
     "slide_type": "fragment"
    },
    "tags": []
   },
   "outputs": [],
   "source": [
    "# What happens when you change an attribute of a frozen instance?\n",
    "\n",
    "TapStep(\"Drawback\", \"3\").sounds = 4"
   ]
  },
  {
   "cell_type": "markdown",
   "id": "5b07548e",
   "metadata": {
    "editable": true,
    "slideshow": {
     "slide_type": "slide"
    },
    "tags": []
   },
   "source": [
    "#### 3. I don't like making CLI tools."
   ]
  },
  {
   "cell_type": "markdown",
   "id": "262e7df4",
   "metadata": {
    "editable": true,
    "slideshow": {
     "slide_type": "fragment"
    },
    "tags": []
   },
   "source": [
    "#### Making command-line interfaces is fun with [docopt](https://github.com/docopt/docopt)!\n",
    "\n",
    "What makes this tool really awesome:  \n",
    "- You only have to write a help message, from which the option parser is generated.\n",
    "- It works for simple and more complex situations.\n",
    "- Combined with [python schema](https://github.com/keleshev/schema), you can validate the input data too!"
   ]
  },
  {
   "cell_type": "markdown",
   "id": "1180c469",
   "metadata": {
    "editable": true,
    "slideshow": {
     "slide_type": "slide"
    },
    "tags": []
   },
   "source": [
    "### Demo time 🙏"
   ]
  },
  {
   "cell_type": "markdown",
   "id": "d7f266d6",
   "metadata": {
    "editable": true,
    "slideshow": {
     "slide_type": "slide"
    },
    "tags": []
   },
   "source": [
    "## Thank you!!\n",
    "\n",
    "### Slides & demo: \n",
    "[github.com/KatieBSC/favorite_python_libraries](https://github.com/KatieBSC/favorite_python_libraries)\n"
   ]
  }
 ],
 "metadata": {
  "celltoolbar": "Slideshow",
  "kernelspec": {
   "display_name": "Python 3 (ipykernel)",
   "language": "python",
   "name": "python3"
  },
  "language_info": {
   "codemirror_mode": {
    "name": "ipython",
    "version": 3
   },
   "file_extension": ".py",
   "mimetype": "text/x-python",
   "name": "python",
   "nbconvert_exporter": "python",
   "pygments_lexer": "ipython3",
   "version": "3.11.1"
  }
 },
 "nbformat": 4,
 "nbformat_minor": 5
}

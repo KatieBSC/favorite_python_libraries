{
 "cells": [
  {
   "cell_type": "markdown",
   "id": "fd65eccc-73b3-4018-a71f-6f89a2317f9c",
   "metadata": {
    "slideshow": {
     "slide_type": "slide"
    },
    "tags": []
   },
   "source": [
    "# Spoonfuls of Sugar\n",
    "\n",
    "### Fun tools for boring tasks"
   ]
  },
  {
   "cell_type": "markdown",
   "id": "7da27a6a",
   "metadata": {
    "slideshow": {
     "slide_type": "slide"
    }
   },
   "source": [
    "## Confession time 🫣"
   ]
  },
  {
   "cell_type": "markdown",
   "id": "3b913452",
   "metadata": {
    "slideshow": {
     "slide_type": "subslide"
    }
   },
   "source": [
    "### 1. I don't like making slides."
   ]
  },
  {
   "cell_type": "markdown",
   "id": "fea7dffd",
   "metadata": {
    "slideshow": {
     "slide_type": "fragment"
    }
   },
   "source": [
    "But I do like giving presentations."
   ]
  },
  {
   "cell_type": "markdown",
   "id": "372a72b5",
   "metadata": {
    "slideshow": {
     "slide_type": "subslide"
    }
   },
   "source": [
    "### 2. I don't like writing Python classes."
   ]
  },
  {
   "cell_type": "markdown",
   "id": "41ba6a36",
   "metadata": {
    "slideshow": {
     "slide_type": "fragment"
    }
   },
   "source": [
    "But I do like reusability."
   ]
  },
  {
   "cell_type": "markdown",
   "id": "a7b1a554",
   "metadata": {
    "slideshow": {
     "slide_type": "subslide"
    }
   },
   "source": [
    "### 3. I don't like making CLI tools."
   ]
  },
  {
   "cell_type": "markdown",
   "id": "d198b23c",
   "metadata": {
    "slideshow": {
     "slide_type": "fragment"
    }
   },
   "source": [
    "But I do like _using_ CLI tools."
   ]
  },
  {
   "cell_type": "markdown",
   "id": "e3715089",
   "metadata": {
    "slideshow": {
     "slide_type": "skip"
    }
   },
   "source": [
    "-------"
   ]
  },
  {
   "cell_type": "markdown",
   "id": "dd0fe6e7",
   "metadata": {
    "slideshow": {
     "slide_type": "slide"
    }
   },
   "source": [
    "#### 1. I don't like making slides."
   ]
  },
  {
   "cell_type": "markdown",
   "id": "d638d522",
   "metadata": {
    "slideshow": {
     "slide_type": "fragment"
    }
   },
   "source": [
    "#### Making slides is fun with [RISE](https://github.com/damianavila/RISE)!\n",
    "\n",
    "What makes this tool really awesome:  \n",
    "- Everything you can do in a notebook, you can do in a slide, including interactive plots!\n",
    "- Run cells during presentation\n",
    "- Edit cells during presssentation"
   ]
  },
  {
   "cell_type": "markdown",
   "id": "852c29a4",
   "metadata": {
    "slideshow": {
     "slide_type": "subslide"
    }
   },
   "source": [
    "It is really _this_ easy:\n",
    "    \n",
    "- [Install RISE](https://rise.readthedocs.io/en/latest/installation.html)\n",
    "- `View -> Cell Toolbar -> Slideshow` set up your Slide Types\n",
    "- Presentation is good to go!"
   ]
  },
  {
   "cell_type": "markdown",
   "id": "dc5afc84",
   "metadata": {
    "slideshow": {
     "slide_type": "subslide"
    }
   },
   "source": [
    "Some tips which have worked for me:\n",
    "\n",
    "1. At the time of this talk, use Notebook pre-7\n",
    "2. Don't put too much text in a slide\n",
    "3. Do some \"live\" coding or plotting; audiences love that stuff!"
   ]
  },
  {
   "cell_type": "markdown",
   "id": "c8b272b2",
   "metadata": {
    "slideshow": {
     "slide_type": "slide"
    }
   },
   "source": [
    "#### 2. I don't like writing Python classes."
   ]
  },
  {
   "cell_type": "markdown",
   "id": "dd9ce1e1",
   "metadata": {
    "slideshow": {
     "slide_type": "fragment"
    }
   },
   "source": [
    "Option 1: Don't"
   ]
  },
  {
   "cell_type": "code",
   "execution_count": 2,
   "id": "88a7703d",
   "metadata": {
    "slideshow": {
     "slide_type": "fragment"
    }
   },
   "outputs": [
    {
     "name": "stdout",
     "output_type": "stream",
     "text": [
      "TapStep(name='Shuffle', sounds=2)\n",
      "2\n"
     ]
    }
   ],
   "source": [
    "from collections import namedtuple\n",
    "\n",
    "TapStep = namedtuple(\"TapStep\", \"name, sounds\")\n",
    "step = TapStep(name=\"Shuffle\", sounds=2)\n",
    "\n",
    "print(step)\n",
    "\n",
    "print(step.sounds)"
   ]
  },
  {
   "cell_type": "markdown",
   "id": "eaa4872e",
   "metadata": {
    "slideshow": {
     "slide_type": "slide"
    }
   },
   "source": [
    "### namedtuple\n",
    "\n",
    "#### Pros:\n",
    "- Saves a lot of typing\n",
    "- Immutable\n",
    "- More readable than a regular tuple"
   ]
  },
  {
   "cell_type": "markdown",
   "id": "5e912c0c",
   "metadata": {
    "slideshow": {
     "slide_type": "slide"
    },
    "tags": []
   },
   "source": [
    "### namedtuple\n",
    "#### Cons:\n",
    "- Sometimes you really need a class (methods, inheritance)\n",
    "- It's really a tuple, so the type is ignored"
   ]
  },
  {
   "cell_type": "code",
   "execution_count": 5,
   "id": "9676a5aa-cf2d-4891-b2bd-47b171b9df2a",
   "metadata": {
    "slideshow": {
     "slide_type": "fragment"
    },
    "tags": []
   },
   "outputs": [],
   "source": [
    "TapStep = namedtuple(\"TapStep\", \"name, sounds\")\n",
    "step = TapStep(\"Paradiddle\", 4)\n",
    "\n",
    "DrumBeat = namedtuple(\"DrumBeat\", \"name, sounds\")\n",
    "beat = DrumBeat(\"Paradiddle\", 4)"
   ]
  },
  {
   "cell_type": "markdown",
   "id": "8a3f9d80",
   "metadata": {
    "slideshow": {
     "slide_type": "slide"
    }
   },
   "source": [
    "#### 2. I don't like writing Python classes."
   ]
  },
  {
   "cell_type": "markdown",
   "id": "15601138",
   "metadata": {
    "slideshow": {
     "slide_type": "fragment"
    }
   },
   "source": [
    "Option 2: Type less and make it more fun."
   ]
  },
  {
   "cell_type": "code",
   "execution_count": 6,
   "id": "f3b6364c",
   "metadata": {
    "slideshow": {
     "slide_type": "fragment"
    }
   },
   "outputs": [
    {
     "name": "stdout",
     "output_type": "stream",
     "text": [
      "TapStep(name='Paradiddle', sounds=4)\n"
     ]
    }
   ],
   "source": [
    "from attrs import define\n",
    "\n",
    "@define\n",
    "class TapStep:\n",
    "    name: str\n",
    "    sounds: int\n",
    "        \n",
    "step = TapStep(\"Paradiddle\", 4)\n",
    "print(step)"
   ]
  },
  {
   "cell_type": "markdown",
   "id": "982c1e28",
   "metadata": {
    "slideshow": {
     "slide_type": "slide"
    }
   },
   "source": [
    "### [attrs](https://github.com/python-attrs/attrs) - _Python Classes Without Boilerplate_\n",
    "\n",
    "What makes this package really awesome:\n",
    "- Saves a lot of typing\n",
    "- Optionally immutable\n",
    "- Validators and Converters!"
   ]
  },
  {
   "cell_type": "code",
   "execution_count": 7,
   "id": "e761069e",
   "metadata": {
    "slideshow": {
     "slide_type": "subslide"
    }
   },
   "outputs": [
    {
     "data": {
      "text/plain": [
       "True"
      ]
     },
     "execution_count": 7,
     "metadata": {},
     "output_type": "execute_result"
    }
   ],
   "source": [
    "from attrs import frozen, field, validators\n",
    "\n",
    "@frozen\n",
    "class TapStep:\n",
    "    name: str = field(validator=validators.min_len(1))\n",
    "    sounds: int = field(converter=int,\n",
    "                        validator=[validators.ge(1),\n",
    "                                   validators.le(4)]\n",
    "                        )\n",
    "\n",
    "TapStep(\"Drawback\", \"3\").sounds == 3\n"
   ]
  },
  {
   "cell_type": "code",
   "execution_count": 12,
   "id": "1e03e5ae",
   "metadata": {
    "slideshow": {
     "slide_type": "subslide"
    }
   },
   "outputs": [
    {
     "data": {
      "text/plain": [
       "TapStep(name='Drawback', sounds=3)"
      ]
     },
     "execution_count": 12,
     "metadata": {},
     "output_type": "execute_result"
    }
   ],
   "source": [
    "# What happens when you change an attribute of a frozen instance?\n",
    "\n",
    "TapStep(\"Drawback\", \"3\")"
   ]
  },
  {
   "cell_type": "markdown",
   "id": "5b07548e",
   "metadata": {
    "slideshow": {
     "slide_type": "slide"
    }
   },
   "source": [
    "#### 3. I don't like making CLI tools."
   ]
  },
  {
   "cell_type": "markdown",
   "id": "262e7df4",
   "metadata": {
    "slideshow": {
     "slide_type": "fragment"
    }
   },
   "source": [
    "#### Making command-line interfaces is fun with [docopt](https://github.com/docopt/docopt)!\n",
    "\n",
    "What makes this tool really awesome:  \n",
    "- You only have to write a help message, from which the option parser is generated.\n",
    "- It works for simple and more complex situations.\n",
    "- Combined with [python schema](https://github.com/keleshev/schema), you can validate the input data too!"
   ]
  },
  {
   "cell_type": "markdown",
   "id": "1180c469",
   "metadata": {
    "slideshow": {
     "slide_type": "slide"
    }
   },
   "source": [
    "### Demo time 🙏"
   ]
  },
  {
   "cell_type": "markdown",
   "id": "d7f266d6",
   "metadata": {
    "slideshow": {
     "slide_type": "slide"
    }
   },
   "source": [
    "## Thank you!!\n",
    "\n",
    "### Questions\n",
    "\n",
    "### Slides & demo"
   ]
  }
 ],
 "metadata": {
  "celltoolbar": "Slideshow",
  "kernelspec": {
   "display_name": "Python 3 (ipykernel)",
   "language": "python",
   "name": "python3"
  },
  "language_info": {
   "codemirror_mode": {
    "name": "ipython",
    "version": 3
   },
   "file_extension": ".py",
   "mimetype": "text/x-python",
   "name": "python",
   "nbconvert_exporter": "python",
   "pygments_lexer": "ipython3",
   "version": "3.11.1"
  }
 },
 "nbformat": 4,
 "nbformat_minor": 5
}
